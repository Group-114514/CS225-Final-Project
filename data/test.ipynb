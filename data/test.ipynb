{
 "cells": [
  {
   "cell_type": "code",
   "execution_count": 1,
   "metadata": {
    "collapsed": true
   },
   "outputs": [
    {
     "name": "stdout",
     "output_type": "stream",
     "text": [
      "fetch:  6073 airports\n",
      "fail:  729\n",
      "miss rate:  0.010891325783607733\n"
     ]
    }
   ],
   "source": [
    "# -*- coding: UTF-8 -*-\n",
    "\n",
    "\n",
    "import geopy.distance\n",
    "import csv\n",
    "import pickle\n",
    "import numpy as np\n",
    "from collections import Counter\n",
    "import matplotlib.pyplot as plt\n",
    "\n",
    "\n",
    "def calc_dist(start_coord: tuple, dest_coord: tuple) -> float:\n",
    "    \"\"\"\n",
    "\n",
    "    :param start_coord:         (start latitude, start longitude)\n",
    "    :param dest_coord:          (dest latitude, dest longitude)\n",
    "    :return:                    linear distance between start and destination, in km\n",
    "    \"\"\"\n",
    "    return geopy.distance.geodesic(start_coord, dest_coord).km\n",
    "\n",
    "\n",
    "def calc_weight(distance: float, distance_max: float, airline: int) -> float:\n",
    "    \"\"\"\n",
    "\n",
    "    :param distance:        distance of the edge\n",
    "    :param airline:         number of airline\n",
    "    :param distance_max:    maximum distance\n",
    "    :return:                weight of the edge range from [0, 1]\n",
    "    \"\"\"\n",
    "\n",
    "    \"\"\"\n",
    "    General Statistic Data\n",
    "    -------------------------------------------\n",
    "    std of distance info:    2020.1571858791772\n",
    "    mean of distance info:   1851.8100171736605\n",
    "    median of distance info: 1195.8845359502072\n",
    "    max of distance info:    13804.402294725593\n",
    "\n",
    "    std of airline:          1.2853277067594049\n",
    "    mean of airline:         1.8069758652340586\n",
    "    median of airline:       1.0\n",
    "    max of airline:          20.0\n",
    "    \"\"\"\n",
    "\n",
    "    # weight for each parameter\n",
    "    distance_weight = 0.5\n",
    "    airline_weight = 1 - distance_weight\n",
    "\n",
    "    # get the fixed weight\n",
    "    dest_fixed = distance / 8000\n",
    "    airline_fixed = 1 / airline\n",
    "\n",
    "    return airline_fixed * airline_weight + dest_fixed * distance_weight\n",
    "\n",
    "\n",
    "airport = {}  # key: IATA code value: [latitude, longitude, altitude]\n",
    "routes = []  # [start id, dist id, distance]\n",
    "\n",
    "with open(\"airports.dat.txt\", \"r\", newline='', encoding=\"utf-8\") as f:\n",
    "    csv_content = csv.reader(f, delimiter=',')\n",
    "    for row in csv_content:\n",
    "        airport[row[4]] = (float(row[6]), float(row[7]), float(row[8]))\n",
    "\n",
    "print(\"fetch: \", len(airport.keys()), \"airports\")\n",
    "\n",
    "with open(\"routes.dat.txt\", \"r\", encoding=\"utf-8\") as f:\n",
    "    csv_content = csv.reader(f, delimiter=',')\n",
    "    fail_count = 0\n",
    "    for row in csv_content:\n",
    "        start_airport = row[2]\n",
    "        dest_airport = row[4]\n",
    "        try:\n",
    "            start_airport_dist = airport[start_airport]\n",
    "            dest_airport_dist = airport[dest_airport]\n",
    "        except KeyError:\n",
    "            fail_count += 1\n",
    "            continue\n",
    "        dist = calc_dist(start_airport_dist[:2], dest_airport_dist[:2])\n",
    "        routes.append([start_airport, dest_airport, dist])\n",
    "\n",
    "print(\"fail: \", fail_count)\n",
    "print(\"miss rate: \", str(fail_count / len(routes)))\n",
    "\n",
    "# calculate weight and update routes\n",
    "routes_ = np.array(routes, dtype=str)\n",
    "route_flat = []\n",
    "\n",
    "for i in routes_:\n",
    "    route_flat.append(i[0] + i[1])\n",
    "\n",
    "c = Counter(route_flat)\n",
    "\n",
    "dist_inf = routes_[:, 2].astype(float)\n",
    "dist_max = float(np.max(dist_inf))"
   ]
  },
  {
   "cell_type": "code",
   "execution_count": 7,
   "outputs": [
    {
     "data": {
      "text/plain": "(array([37646., 17244.,  5581.,  1614.,  1800.,  1349.,   981.,   419.,\n          226.,    74.]),\n array([    0.        ,  1380.44022947,  2760.88045895,  4141.32068842,\n         5521.76091789,  6902.20114736,  8282.64137684,  9663.08160631,\n        11043.52183578, 12423.96206525, 13804.40229473]),\n <BarContainer object of 10 artists>)"
     },
     "execution_count": 7,
     "metadata": {},
     "output_type": "execute_result"
    },
    {
     "data": {
      "text/plain": "<Figure size 432x288 with 1 Axes>",
      "image/png": "[encoded data removed]"
     },
     "metadata": {
      "needs_background": "light"
     },
     "output_type": "display_data"
    }
   ],
   "source": [
    "plt.hist(dist_inf)"
   ],
   "metadata": {
    "collapsed": false
   }
  },
  {
   "cell_type": "code",
   "execution_count": 5,
   "outputs": [
    {
     "data": {
      "text/plain": "(array([3.0125e+04, 5.3020e+03, 1.1410e+03, 3.3100e+02, 1.1500e+02,\n        2.4000e+01, 2.0000e+00, 0.0000e+00, 0.0000e+00, 2.0000e+00]),\n array([ 1. ,  2.9,  4.8,  6.7,  8.6, 10.5, 12.4, 14.3, 16.2, 18.1, 20. ]),\n <BarContainer object of 10 artists>)"
     },
     "execution_count": 5,
     "metadata": {},
     "output_type": "execute_result"
    },
    {
     "data": {
      "text/plain": "<Figure size 432x288 with 1 Axes>",
      "image/png": "[encoded data removed]"
     },
     "metadata": {
      "needs_background": "light"
     },
     "output_type": "display_data"
    }
   ],
   "source": [
    "plt.hist(c.values())"
   ],
   "metadata": {
    "collapsed": false
   }
  },
  {
   "cell_type": "code",
   "execution_count": 8,
   "outputs": [
    {
     "data": {
      "text/plain": "13804.402294725593"
     },
     "execution_count": 8,
     "metadata": {},
     "output_type": "execute_result"
    }
   ],
   "source": [
    "max(dist_inf)"
   ],
   "metadata": {
    "collapsed": false
   }
  },
  {
   "cell_type": "code",
   "execution_count": 14,
   "outputs": [
    {
     "data": {
      "text/plain": "(array([ 9166., 10581.,  8149.,  8319.,  6058.,  5174.,  5829.,  5229.,\n         4654.,  3775.]),\n array([    0.,  1893.,  3786.,  5679.,  7572.,  9465., 11358., 13251.,\n        15144., 17037., 18930.]),\n <BarContainer object of 10 artists>)"
     },
     "execution_count": 14,
     "metadata": {},
     "output_type": "execute_result"
    },
    {
     "name": "stdout",
     "output_type": "stream",
     "text": [
      "Error in callback <function flush_figures at 0x00000240FF42E040> (for post_execute):\n"
     ]
    },
    {
     "name": "stderr",
     "output_type": "stream",
     "text": [
      "\n",
      "KeyboardInterrupt\n",
      "\n"
     ]
    }
   ],
   "source": [
    "plt.hist(routes_[:,2])"
   ],
   "metadata": {
    "collapsed": false
   }
  },
  {
   "cell_type": "code",
   "execution_count": 15,
   "outputs": [],
   "source": [
    "routes_ = np.array(routes, dtype=str)\n",
    "route_flat = []\n",
    "\n",
    "for i in routes_:\n",
    "    route_flat.append(i[0] + i[1])\n",
    "\n",
    "c = Counter(route_flat)\n",
    "\n",
    "dist_inf = routes_[:, 2].astype(float)\n",
    "dist_max = float(np.max(dist_inf))\n",
    "\n",
    "for i in range(len(routes)):\n",
    "    flat_name = routes[i][0] + routes[i][1]\n",
    "    weight = calc_weight(float(routes[i][2]), dist_max, c[flat_name])\n",
    "    routes[i][2] = weight"
   ],
   "metadata": {
    "collapsed": false
   }
  },
  {
   "cell_type": "code",
   "execution_count": 24,
   "outputs": [
    {
     "data": {
      "text/plain": "array(['0.5942493550120488', '0.5650589504116663', '0.528064791486324',\n       '0.5483203899382765', '0.3339475700995954', '0.16988026263978454',\n       '0.5559636878266003', '0.5572365630235415', '0.5596642969059828',\n       '0.5734512307290007', '0.5631759928030751', '0.6053370070243383',\n       '0.5734512307290007', '0.5942493550120488', '0.5650589504116663',\n       '0.5483203899382765', '0.16988026263978454', '0.5631759928030751',\n       '0.242965684873883', '0.5453729031614021', '0.242965684873883',\n       '0.5860879087145338', '0.5917954280876613', '0.528064791486324',\n       '0.5559636878266003', '0.6053370070243383', '0.5860879087145338',\n       '0.5347841584022132', '0.3134899007177377', '0.34762816566476373',\n       '0.33301609868307464', '0.3339475700995954', '0.1859332538694919',\n       '0.5453729031614021', '0.5347841584022132', '0.3134899007177377',\n       '0.33301609868307464', '0.1859332538694919', '0.5572365630235415',\n       '0.5596642969059828', '0.5917954280876613', '0.34762816566476373',\n       '0.5305619551767665', '0.5752133272361375', '0.3339475700995954',\n       '0.2881623379135305', '0.5305619551767665', '0.2881623379135305',\n       '0.5410080280844162', '0.305262123970934'], dtype='<U32')"
     },
     "execution_count": 24,
     "metadata": {},
     "output_type": "execute_result"
    }
   ],
   "source": [
    "routes[:,2][:50]"
   ],
   "metadata": {
    "collapsed": false
   }
  }
 ],
 "metadata": {
  "kernelspec": {
   "display_name": "Python 3",
   "language": "python",
   "name": "python3"
  },
  "language_info": {
   "codemirror_mode": {
    "name": "ipython",
    "version": 2
   },
   "file_extension": ".py",
   "mimetype": "text/x-python",
   "name": "python",
   "nbconvert_exporter": "python",
   "pygments_lexer": "ipython2",
   "version": "2.7.6"
  }
 },
 "nbformat": 4,
 "nbformat_minor": 0
}
